{
  "nbformat": 4,
  "nbformat_minor": 0,
  "metadata": {
    "colab": {
      "name": "Session_4_Machine_Learning_Basics.ipynb",
      "provenance": [],
      "collapsed_sections": []
    },
    "kernelspec": {
      "name": "python3",
      "display_name": "Python 3"
    },
    "language_info": {
      "name": "python"
    },
    "accelerator": "GPU",
    "gpuClass": "standard"
  },
  "cells": [
    {
      "cell_type": "markdown",
      "source": [
        "## Import libraries"
      ],
      "metadata": {
        "id": "_iy0pyqlqwnV"
      }
    },
    {
      "cell_type": "code",
      "execution_count": 1,
      "metadata": {
        "id": "nC96btiHqke-"
      },
      "outputs": [],
      "source": [
        "import numpy as np\n",
        "import pandas as pd\n",
        "import matplotlib.pyplot as plt\n",
        "from sklearn import metrics"
      ]
    },
    {
      "cell_type": "markdown",
      "source": [
        "## Load the data"
      ],
      "metadata": {
        "id": "rZJ5GCvOq2jK"
      }
    },
    {
      "cell_type": "code",
      "source": [
        "data = pd.read_csv('USA_Students.csv')\n",
        "print(data.describe())\n",
        "X=data['SAT']\n",
        "Y=data['GPA']\n",
        "print(data.shape)\n",
        "print(X.shape)"
      ],
      "metadata": {
        "colab": {
          "base_uri": "https://localhost:8080/"
        },
        "id": "vdnQzKVhq3Mf",
        "outputId": "79f27ec2-62eb-4207-f669-715563e540f5"
      },
      "execution_count": 5,
      "outputs": [
        {
          "output_type": "stream",
          "name": "stdout",
          "text": [
            "               SAT          IQ        GPA\n",
            "count    84.000000   84.000000  84.000000\n",
            "mean   1845.273810  111.928571   3.330238\n",
            "std     104.530661    8.050721   0.271617\n",
            "min    1634.000000   96.000000   2.400000\n",
            "25%    1772.000000  106.000000   3.190000\n",
            "50%    1846.000000  112.000000   3.380000\n",
            "75%    1934.000000  119.000000   3.502500\n",
            "max    2050.000000  128.000000   3.810000\n",
            "(84, 3)\n",
            "(84,)\n"
          ]
        },
        {
          "output_type": "execute_result",
          "data": {
            "text/plain": [
              "Index(['SAT', 'IQ', 'GPA'], dtype='object')"
            ]
          },
          "metadata": {},
          "execution_count": 5
        }
      ]
    },
    {
      "cell_type": "markdown",
      "source": [
        "## Plot the samples"
      ],
      "metadata": {
        "id": "pXTzCL1yq5Yj"
      }
    },
    {
      "cell_type": "code",
      "source": [
        "plt.scatter(X, Y)\n",
        "plt.xlabel('SAT', fontsize = 15)\n",
        "plt.ylabel('GPA', fontsize = 15)\n",
        "plt.show()"
      ],
      "metadata": {
        "colab": {
          "base_uri": "https://localhost:8080/",
          "height": 284
        },
        "id": "NntuwwQgq8IZ",
        "outputId": "cf614643-d395-4e46-aebb-d534b93e4855"
      },
      "execution_count": 12,
      "outputs": [
        {
          "output_type": "display_data",
          "data": {
            "text/plain": [
              "<Figure size 432x288 with 1 Axes>"
            ],
            "image/png": "[encoded data removed]"
          },
          "metadata": {
            "needs_background": "light"
          }
        }
      ]
    },
    {
      "cell_type": "markdown",
      "source": [
        "## Hyper-prameters"
      ],
      "metadata": {
        "id": "cXs7utKJq_Vj"
      }
    },
    {
      "cell_type": "code",
      "source": [
        "L = 0.0000001  # The learning Rate\n",
        "epochs = 100  # The number of iterations to perform gradient descent\n",
        "m=0\n",
        "c=0\n",
        "n = float(len(X)) # Number of elements in X\n"
      ],
      "metadata": {
        "id": "-iAcECVcrEE7"
      },
      "execution_count": 15,
      "outputs": []
    },
    {
      "cell_type": "markdown",
      "source": [
        "## Gradient Descent Algorithm"
      ],
      "metadata": {
        "id": "h7q5g-WmrHCg"
      }
    },
    {
      "cell_type": "code",
      "source": [
        "for i in range(epochs):\n",
        "\n",
        "    # Step 1 : Calculate YHAT\n",
        "    Y_pred = m*X + c  # The current predicted value of Y\n",
        "    \n",
        "    # Step 2 : Get Gradients\n",
        "    D_m = (-2/n) * sum(X * (Y - Y_pred))  # Derivative wrt m\n",
        "    D_c = (-2/n) * sum(Y - Y_pred)  # Derivative wrt c\n",
        "    \n",
        "    # Step : Update\n",
        "    m = m - L * D_m  # Update m\n",
        "    c = c - L * D_c  # Update c"
      ],
      "metadata": {
        "id": "bvTWIbTarJ-Z"
      },
      "execution_count": 16,
      "outputs": []
    },
    {
      "cell_type": "code",
      "source": [
        "# ****\n",
        "#  momken te3mel haga helwa awy we hea enk te5ali el epochs be raqm keber awy ashan yewsal le a7san gradient \n",
        "# we t7ot condition awel lma el M wel C tebd2a mabtetd8ayarsh aw bet8ayar be rate so8ayaar awy (epsilone) maslan ye3mel break mn el loop"
      ],
      "metadata": {
        "id": "IaqlGnsvo0Cn"
      },
      "execution_count": 17,
      "outputs": []
    },
    {
      "cell_type": "markdown",
      "source": [
        "## Evaluation"
      ],
      "metadata": {
        "id": "HNt8biVHrLPB"
      }
    },
    {
      "cell_type": "code",
      "source": [
        "prediction=X*m+c\n",
        "plt.scatter(X, Y)\n",
        "plt.xlabel('SAT', fontsize = 20)\n",
        "plt.ylabel('GPA', fontsize = 20)\n",
        "plt.plot(X, prediction, color='red', linewidth = 3)\n",
        "plt.show()\n",
        "\n",
        "print('Mean Square Error', metrics.mean_squared_error(Y, prediction))"
      ],
      "metadata": {
        "colab": {
          "base_uri": "https://localhost:8080/",
          "height": 305
        },
        "id": "xqNURTC9rOwj",
        "outputId": "2a5a23dd-a62c-416b-c350-12a2c47965f5"
      },
      "execution_count": 18,
      "outputs": [
        {
          "output_type": "display_data",
          "data": {
            "text/plain": [
              "<Figure size 432x288 with 1 Axes>"
            ],
            "image/png": "[encoded data removed]"
          },
          "metadata": {
            "needs_background": "light"
          }
        },
        {
          "output_type": "stream",
          "name": "stdout",
          "text": [
            "Mean Square Error 0.04353996347646893\n"
          ]
        }
      ]
    },
    {
      "cell_type": "markdown",
      "source": [
        "## Prediction"
      ],
      "metadata": {
        "id": "AOAUQePPr0Jd"
      }
    },
    {
      "cell_type": "code",
      "source": [
        "#Predict your GPA based on your SAT Score\n",
        "STA_Score=int(input('Enter your SAT score: '))\n",
        "y_test=m*STA_Score + c\n",
        "print('Your predicted GPA is ' + str(float(y_test)))"
      ],
      "metadata": {
        "colab": {
          "base_uri": "https://localhost:8080/"
        },
        "id": "w6cQEOoArz0-",
        "outputId": "c02eb05b-e902-4fb1-b45f-f51f15cd3256"
      },
      "execution_count": 31,
      "outputs": [
        {
          "output_type": "stream",
          "name": "stdout",
          "text": [
            "Enter your SAT score: 1850\n",
            "Your predicted GPA is 3.337896079365994\n"
          ]
        }
      ]
    },
    {
      "cell_type": "code",
      "source": [
        "# data[\"SAT\"].values\n",
        "# data.iloc[:5,:]"
      ],
      "metadata": {
        "colab": {
          "base_uri": "https://localhost:8080/",
          "height": 206
        },
        "id": "faSg4oWZYNqN",
        "outputId": "c8701843-db0e-432b-d1b8-01c66935cd1b"
      },
      "execution_count": 35,
      "outputs": [
        {
          "output_type": "execute_result",
          "data": {
            "text/plain": [
              "    SAT   IQ   GPA\n",
              "0  1714  102  2.40\n",
              "1  1664   98  2.52\n",
              "2  1760  105  2.54\n",
              "3  1685  100  2.74\n",
              "4  1693  100  2.83"
            ],
            "text/html": [
              "\n",
              "  <div id=\"df-2793ed74-e7ff-4e70-ae26-9f12091cf7c6\">\n",
              "    <div class=\"colab-df-container\">\n",
              "      <div>\n",
              "<style scoped>\n",
              "    .dataframe tbody tr th:only-of-type {\n",
              "        vertical-align: middle;\n",
              "    }\n",
              "\n",
              "    .dataframe tbody tr th {\n",
              "        vertical-align: top;\n",
              "    }\n",
              "\n",
              "    .dataframe thead th {\n",
              "        text-align: right;\n",
              "    }\n",
              "</style>\n",
              "<table border=\"1\" class=\"dataframe\">\n",
              "  <thead>\n",
              "    <tr style=\"text-align: right;\">\n",
              "      <th></th>\n",
              "      <th>SAT</th>\n",
              "      <th>IQ</th>\n",
              "      <th>GPA</th>\n",
              "    </tr>\n",
              "  </thead>\n",
              "  <tbody>\n",
              "    <tr>\n",
              "      <th>0</th>\n",
              "      <td>1714</td>\n",
              "      <td>102</td>\n",
              "      <td>2.40</td>\n",
              "    </tr>\n",
              "    <tr>\n",
              "      <th>1</th>\n",
              "      <td>1664</td>\n",
              "      <td>98</td>\n",
              "      <td>2.52</td>\n",
              "    </tr>\n",
              "    <tr>\n",
              "      <th>2</th>\n",
              "      <td>1760</td>\n",
              "      <td>105</td>\n",
              "      <td>2.54</td>\n",
              "    </tr>\n",
              "    <tr>\n",
              "      <th>3</th>\n",
              "      <td>1685</td>\n",
              "      <td>100</td>\n",
              "      <td>2.74</td>\n",
              "    </tr>\n",
              "    <tr>\n",
              "      <th>4</th>\n",
              "      <td>1693</td>\n",
              "      <td>100</td>\n",
              "      <td>2.83</td>\n",
              "    </tr>\n",
              "  </tbody>\n",
              "</table>\n",
              "</div>\n",
              "      <button class=\"colab-df-convert\" onclick=\"convertToInteractive('df-2793ed74-e7ff-4e70-ae26-9f12091cf7c6')\"\n",
              "              title=\"Convert this dataframe to an interactive table.\"\n",
              "              style=\"display:none;\">\n",
              "        \n",
              "  <svg xmlns=\"http://www.w3.org/2000/svg\" height=\"24px\"viewBox=\"0 0 24 24\"\n",
              "       width=\"24px\">\n",
              "    <path d=\"M0 0h24v24H0V0z\" fill=\"none\"/>\n",
              "    <path d=\"M18.56 5.44l.94 2.06.94-2.06 2.06-.94-2.06-.94-.94-2.06-.94 2.06-2.06.94zm-11 1L8.5 8.5l.94-2.06 2.06-.94-2.06-.94L8.5 2.5l-.94 2.06-2.06.94zm10 10l.94 2.06.94-2.06 2.06-.94-2.06-.94-.94-2.06-.94 2.06-2.06.94z\"/><path d=\"M17.41 7.96l-1.37-1.37c-.4-.4-.92-.59-1.43-.59-.52 0-1.04.2-1.43.59L10.3 9.45l-7.72 7.72c-.78.78-.78 2.05 0 2.83L4 21.41c.39.39.9.59 1.41.59.51 0 1.02-.2 1.41-.59l7.78-7.78 2.81-2.81c.8-.78.8-2.07 0-2.86zM5.41 20L4 18.59l7.72-7.72 1.47 1.35L5.41 20z\"/>\n",
              "  </svg>\n",
              "      </button>\n",
              "      \n",
              "  <style>\n",
              "    .colab-df-container {\n",
              "      display:flex;\n",
              "      flex-wrap:wrap;\n",
              "      gap: 12px;\n",
              "    }\n",
              "\n",
              "    .colab-df-convert {\n",
              "      background-color: #E8F0FE;\n",
              "      border: none;\n",
              "      border-radius: 50%;\n",
              "      cursor: pointer;\n",
              "      display: none;\n",
              "      fill: #1967D2;\n",
              "      height: 32px;\n",
              "      padding: 0 0 0 0;\n",
              "      width: 32px;\n",
              "    }\n",
              "\n",
              "    .colab-df-convert:hover {\n",
              "      background-color: #E2EBFA;\n",
              "      box-shadow: 0px 1px 2px rgba(60, 64, 67, 0.3), 0px 1px 3px 1px rgba(60, 64, 67, 0.15);\n",
              "      fill: #174EA6;\n",
              "    }\n",
              "\n",
              "    [theme=dark] .colab-df-convert {\n",
              "      background-color: #3B4455;\n",
              "      fill: #D2E3FC;\n",
              "    }\n",
              "\n",
              "    [theme=dark] .colab-df-convert:hover {\n",
              "      background-color: #434B5C;\n",
              "      box-shadow: 0px 1px 3px 1px rgba(0, 0, 0, 0.15);\n",
              "      filter: drop-shadow(0px 1px 2px rgba(0, 0, 0, 0.3));\n",
              "      fill: #FFFFFF;\n",
              "    }\n",
              "  </style>\n",
              "\n",
              "      <script>\n",
              "        const buttonEl =\n",
              "          document.querySelector('#df-2793ed74-e7ff-4e70-ae26-9f12091cf7c6 button.colab-df-convert');\n",
              "        buttonEl.style.display =\n",
              "          google.colab.kernel.accessAllowed ? 'block' : 'none';\n",
              "\n",
              "        async function convertToInteractive(key) {\n",
              "          const element = document.querySelector('#df-2793ed74-e7ff-4e70-ae26-9f12091cf7c6');\n",
              "          const dataTable =\n",
              "            await google.colab.kernel.invokeFunction('convertToInteractive',\n",
              "                                                     [key], {});\n",
              "          if (!dataTable) return;\n",
              "\n",
              "          const docLinkHtml = 'Like what you see? Visit the ' +\n",
              "            '<a target=\"_blank\" href=https://colab.research.google.com/notebooks/data_table.ipynb>data table notebook</a>'\n",
              "            + ' to learn more about interactive tables.';\n",
              "          element.innerHTML = '';\n",
              "          dataTable['output_type'] = 'display_data';\n",
              "          await google.colab.output.renderOutput(dataTable, element);\n",
              "          const docLink = document.createElement('div');\n",
              "          docLink.innerHTML = docLinkHtml;\n",
              "          element.appendChild(docLink);\n",
              "        }\n",
              "      </script>\n",
              "    </div>\n",
              "  </div>\n",
              "  "
            ]
          },
          "metadata": {},
          "execution_count": 35
        }
      ]
    },
    {
      "cell_type": "markdown",
      "source": [
        "# Exercise 3"
      ],
      "metadata": {
        "id": "WHqX0Ajr9HGU"
      }
    },
    {
      "cell_type": "markdown",
      "source": [
        "## Feature Encoding"
      ],
      "metadata": {
        "id": "K2xpDHTF9qlm"
      }
    },
    {
      "cell_type": "code",
      "source": [
        "from sklearn.preprocessing import LabelEncoder\n",
        "def Feature_Encoder(X,cols):\n",
        "    for c in cols:\n",
        "        lbl = LabelEncoder()\n",
        "        lbl.fit(list(X[c].values))\n",
        "        X[c] = lbl.transform(list(X[c].values))\n",
        "    return X"
      ],
      "metadata": {
        "id": "UTn7M5DX9sTE"
      },
      "execution_count": 3,
      "outputs": []
    },
    {
      "cell_type": "code",
      "source": [
        "# data = pd.read_csv('fifa19.csv')\n",
        "# print(data.head())\n",
        "# print(data.dtypes)\n",
        "# top_feature\n",
        "# top_corr\n"
      ],
      "metadata": {
        "colab": {
          "base_uri": "https://localhost:8080/",
          "height": 175
        },
        "id": "KYy87mNYePXH",
        "outputId": "2336a7fc-8258-4c77-c60b-2517418bbf14"
      },
      "execution_count": 63,
      "outputs": [
        {
          "output_type": "execute_result",
          "data": {
            "text/plain": [
              "            Overall  Potential  Reactions     Value\n",
              "Overall    1.000000   0.660409   0.851197  0.631673\n",
              "Potential  0.660409   1.000000   0.513610  0.579922\n",
              "Reactions  0.851197   0.513610   1.000000  0.544993\n",
              "Value      0.631673   0.579922   0.544993  1.000000"
            ],
            "text/html": [
              "\n",
              "  <div id=\"df-1c3662f0-9241-4a06-98dd-2382761e8927\">\n",
              "    <div class=\"colab-df-container\">\n",
              "      <div>\n",
              "<style scoped>\n",
              "    .dataframe tbody tr th:only-of-type {\n",
              "        vertical-align: middle;\n",
              "    }\n",
              "\n",
              "    .dataframe tbody tr th {\n",
              "        vertical-align: top;\n",
              "    }\n",
              "\n",
              "    .dataframe thead th {\n",
              "        text-align: right;\n",
              "    }\n",
              "</style>\n",
              "<table border=\"1\" class=\"dataframe\">\n",
              "  <thead>\n",
              "    <tr style=\"text-align: right;\">\n",
              "      <th></th>\n",
              "      <th>Overall</th>\n",
              "      <th>Potential</th>\n",
              "      <th>Reactions</th>\n",
              "      <th>Value</th>\n",
              "    </tr>\n",
              "  </thead>\n",
              "  <tbody>\n",
              "    <tr>\n",
              "      <th>Overall</th>\n",
              "      <td>1.000000</td>\n",
              "      <td>0.660409</td>\n",
              "      <td>0.851197</td>\n",
              "      <td>0.631673</td>\n",
              "    </tr>\n",
              "    <tr>\n",
              "      <th>Potential</th>\n",
              "      <td>0.660409</td>\n",
              "      <td>1.000000</td>\n",
              "      <td>0.513610</td>\n",
              "      <td>0.579922</td>\n",
              "    </tr>\n",
              "    <tr>\n",
              "      <th>Reactions</th>\n",
              "      <td>0.851197</td>\n",
              "      <td>0.513610</td>\n",
              "      <td>1.000000</td>\n",
              "      <td>0.544993</td>\n",
              "    </tr>\n",
              "    <tr>\n",
              "      <th>Value</th>\n",
              "      <td>0.631673</td>\n",
              "      <td>0.579922</td>\n",
              "      <td>0.544993</td>\n",
              "      <td>1.000000</td>\n",
              "    </tr>\n",
              "  </tbody>\n",
              "</table>\n",
              "</div>\n",
              "      <button class=\"colab-df-convert\" onclick=\"convertToInteractive('df-1c3662f0-9241-4a06-98dd-2382761e8927')\"\n",
              "              title=\"Convert this dataframe to an interactive table.\"\n",
              "              style=\"display:none;\">\n",
              "        \n",
              "  <svg xmlns=\"http://www.w3.org/2000/svg\" height=\"24px\"viewBox=\"0 0 24 24\"\n",
              "       width=\"24px\">\n",
              "    <path d=\"M0 0h24v24H0V0z\" fill=\"none\"/>\n",
              "    <path d=\"M18.56 5.44l.94 2.06.94-2.06 2.06-.94-2.06-.94-.94-2.06-.94 2.06-2.06.94zm-11 1L8.5 8.5l.94-2.06 2.06-.94-2.06-.94L8.5 2.5l-.94 2.06-2.06.94zm10 10l.94 2.06.94-2.06 2.06-.94-2.06-.94-.94-2.06-.94 2.06-2.06.94z\"/><path d=\"M17.41 7.96l-1.37-1.37c-.4-.4-.92-.59-1.43-.59-.52 0-1.04.2-1.43.59L10.3 9.45l-7.72 7.72c-.78.78-.78 2.05 0 2.83L4 21.41c.39.39.9.59 1.41.59.51 0 1.02-.2 1.41-.59l7.78-7.78 2.81-2.81c.8-.78.8-2.07 0-2.86zM5.41 20L4 18.59l7.72-7.72 1.47 1.35L5.41 20z\"/>\n",
              "  </svg>\n",
              "      </button>\n",
              "      \n",
              "  <style>\n",
              "    .colab-df-container {\n",
              "      display:flex;\n",
              "      flex-wrap:wrap;\n",
              "      gap: 12px;\n",
              "    }\n",
              "\n",
              "    .colab-df-convert {\n",
              "      background-color: #E8F0FE;\n",
              "      border: none;\n",
              "      border-radius: 50%;\n",
              "      cursor: pointer;\n",
              "      display: none;\n",
              "      fill: #1967D2;\n",
              "      height: 32px;\n",
              "      padding: 0 0 0 0;\n",
              "      width: 32px;\n",
              "    }\n",
              "\n",
              "    .colab-df-convert:hover {\n",
              "      background-color: #E2EBFA;\n",
              "      box-shadow: 0px 1px 2px rgba(60, 64, 67, 0.3), 0px 1px 3px 1px rgba(60, 64, 67, 0.15);\n",
              "      fill: #174EA6;\n",
              "    }\n",
              "\n",
              "    [theme=dark] .colab-df-convert {\n",
              "      background-color: #3B4455;\n",
              "      fill: #D2E3FC;\n",
              "    }\n",
              "\n",
              "    [theme=dark] .colab-df-convert:hover {\n",
              "      background-color: #434B5C;\n",
              "      box-shadow: 0px 1px 3px 1px rgba(0, 0, 0, 0.15);\n",
              "      filter: drop-shadow(0px 1px 2px rgba(0, 0, 0, 0.3));\n",
              "      fill: #FFFFFF;\n",
              "    }\n",
              "  </style>\n",
              "\n",
              "      <script>\n",
              "        const buttonEl =\n",
              "          document.querySelector('#df-1c3662f0-9241-4a06-98dd-2382761e8927 button.colab-df-convert');\n",
              "        buttonEl.style.display =\n",
              "          google.colab.kernel.accessAllowed ? 'block' : 'none';\n",
              "\n",
              "        async function convertToInteractive(key) {\n",
              "          const element = document.querySelector('#df-1c3662f0-9241-4a06-98dd-2382761e8927');\n",
              "          const dataTable =\n",
              "            await google.colab.kernel.invokeFunction('convertToInteractive',\n",
              "                                                     [key], {});\n",
              "          if (!dataTable) return;\n",
              "\n",
              "          const docLinkHtml = 'Like what you see? Visit the ' +\n",
              "            '<a target=\"_blank\" href=https://colab.research.google.com/notebooks/data_table.ipynb>data table notebook</a>'\n",
              "            + ' to learn more about interactive tables.';\n",
              "          element.innerHTML = '';\n",
              "          dataTable['output_type'] = 'display_data';\n",
              "          await google.colab.output.renderOutput(dataTable, element);\n",
              "          const docLink = document.createElement('div');\n",
              "          docLink.innerHTML = docLinkHtml;\n",
              "          element.appendChild(docLink);\n",
              "        }\n",
              "      </script>\n",
              "    </div>\n",
              "  </div>\n",
              "  "
            ]
          },
          "metadata": {},
          "execution_count": 63
        }
      ]
    },
    {
      "cell_type": "markdown",
      "source": [
        "## Data preprocessing"
      ],
      "metadata": {
        "id": "yWuaAPV29wsS"
      }
    },
    {
      "cell_type": "code",
      "source": [
        "# Import libraries\n",
        "import numpy as np\n",
        "import pandas as pd\n",
        "import seaborn as sns\n",
        "import matplotlib.pyplot as plt\n",
        "from sklearn import linear_model\n",
        "from sklearn import metrics\n",
        "from sklearn.model_selection import train_test_split\n",
        "\n",
        "# Pre-processing\n",
        "#Load players data\n",
        "data = pd.read_csv('fifa19.csv')\n",
        "#Drop the rows that contain missing values\n",
        "data.dropna(how='any',inplace=True)\n",
        "fifa_data=data.iloc[:,:]\n",
        "X=data.iloc[:,1:40] #Features\n",
        "print(X)\n",
        "Y=data['Value'] #Label\n",
        "cols=('Nationality','Club','Position')\n",
        "X=Feature_Encoder(X,cols);\n",
        "\n",
        "#Split the data to training and testing sets\n",
        "X_train, X_test, y_train, y_test = train_test_split(X, Y, test_size = 0.30,shuffle=True)\n",
        "#Get the correlation between the features\n",
        "corr = fifa_data.corr()\n",
        "#Top 50% Correlation training features with the Value\n",
        "top_feature = corr.index[abs(corr['Value']>0.5)]\n",
        "#Correlation plot\n",
        "plt.subplots(figsize=(12, 8))\n",
        "top_corr = fifa_data[top_feature].corr()\n",
        "sns.heatmap(top_corr, annot=True)\n",
        "plt.show()"
      ],
      "metadata": {
        "colab": {
          "base_uri": "https://localhost:8080/",
          "height": 1000
        },
        "id": "0OM4se_a9LcM",
        "outputId": "05c4f5b8-6f88-4ca4-f615-86043df803e5"
      },
      "execution_count": 3,
      "outputs": [
        {
          "output_type": "stream",
          "name": "stdout",
          "text": [
            "       Age Nationality  Overall  Potential                 Club Position  \\\n",
            "0       31   Argentina       94         94         FC Barcelona       RF   \n",
            "1       33    Portugal       94         94             Juventus       ST   \n",
            "2       26      Brazil       92         93  Paris Saint-Germain       LW   \n",
            "3       27       Spain       91         93    Manchester United       GK   \n",
            "4       27     Belgium       91         92      Manchester City      RCM   \n",
            "...    ...         ...      ...        ...                  ...      ...   \n",
            "17950   19     England       47         65      Crewe Alexandra       CM   \n",
            "17951   19      Sweden       47         63       Trelleborgs FF       ST   \n",
            "17952   16     England       47         67     Cambridge United       ST   \n",
            "17953   17     England       47         66      Tranmere Rovers       RW   \n",
            "17954   16     England       46         66      Tranmere Rovers       CM   \n",
            "\n",
            "       Crossing  Finishing  HeadingAccuracy  ShortPassing  ...  Vision  \\\n",
            "0          84.0       95.0             70.0          90.0  ...    94.0   \n",
            "1          84.0       94.0             89.0          81.0  ...    82.0   \n",
            "2          79.0       87.0             62.0          84.0  ...    87.0   \n",
            "3          17.0       13.0             21.0          50.0  ...    68.0   \n",
            "4          93.0       82.0             55.0          92.0  ...    94.0   \n",
            "...         ...        ...              ...           ...  ...     ...   \n",
            "17950      34.0       38.0             40.0          49.0  ...    52.0   \n",
            "17951      23.0       52.0             52.0          43.0  ...    33.0   \n",
            "17952      25.0       40.0             46.0          38.0  ...    43.0   \n",
            "17953      44.0       50.0             39.0          42.0  ...    47.0   \n",
            "17954      41.0       34.0             46.0          48.0  ...    49.0   \n",
            "\n",
            "       Penalties  Composure  Marking  StandingTackle  SlidingTackle  GKDiving  \\\n",
            "0           75.0       96.0     33.0            28.0           26.0       6.0   \n",
            "1           85.0       95.0     28.0            31.0           23.0       7.0   \n",
            "2           81.0       94.0     27.0            24.0           33.0       9.0   \n",
            "3           40.0       68.0     15.0            21.0           13.0      90.0   \n",
            "4           79.0       88.0     68.0            58.0           51.0      15.0   \n",
            "...          ...        ...      ...             ...            ...       ...   \n",
            "17950       43.0       45.0     40.0            48.0           47.0      10.0   \n",
            "17951       43.0       42.0     22.0            15.0           19.0      10.0   \n",
            "17952       55.0       41.0     32.0            13.0           11.0       6.0   \n",
            "17953       50.0       46.0     20.0            25.0           27.0      14.0   \n",
            "17954       33.0       43.0     40.0            43.0           50.0      10.0   \n",
            "\n",
            "       GKHandling  GKKicking  GKPositioning  \n",
            "0            11.0       15.0           14.0  \n",
            "1            11.0       15.0           14.0  \n",
            "2             9.0       15.0           15.0  \n",
            "3            85.0       87.0           88.0  \n",
            "4            13.0        5.0           10.0  \n",
            "...           ...        ...            ...  \n",
            "17950        13.0        7.0            8.0  \n",
            "17951         9.0        9.0            5.0  \n",
            "17952         5.0       10.0            6.0  \n",
            "17953         6.0       14.0            8.0  \n",
            "17954        15.0        9.0           12.0  \n",
            "\n",
            "[17907 rows x 39 columns]\n"
          ]
        },
        {
          "output_type": "display_data",
          "data": {
            "text/plain": [
              "<Figure size 864x576 with 2 Axes>"
            ],
            "image/png": "[encoded data removed]"
          },
          "metadata": {
            "needs_background": "light"
          }
        }
      ]
    },
    {
      "cell_type": "code",
      "source": [
        "# # prediction=np.array(X_test)[:,0]*m1+np.array(X_test)[:,1]*m2+np.array(X_test)[:,2]*m3+c\n",
        "# x=list(X_test.columns)\n",
        "# for i,e in enumerate(x):\n",
        "#   print(e,i) "
      ],
      "metadata": {
        "id": "U8oBNnk8_wJ_"
      },
      "execution_count": 4,
      "outputs": []
    },
    {
      "cell_type": "markdown",
      "source": [
        "## Multiple Linear Regression"
      ],
      "metadata": {
        "id": "Ztb9rLzz98bI"
      }
    },
    {
      "cell_type": "code",
      "source": [
        "cls = linear_model.LinearRegression()\n",
        "\n",
        "L = 0.0000001  # The learning Rate\n",
        "epochs = 1000  # The number of iterations to perform gradient descent\n",
        "m1=0\n",
        "m2=0\n",
        "m3=0\n",
        "c=0\n",
        "x1=X_train[\"Overall\"]\n",
        "x2=X_train[\"Potential\"]\n",
        "x3=X_train[\"Reactions\"]\n",
        "\n",
        "\n",
        "n = float(len(X_train)) # Number of elements in X\n",
        "for i in range(epochs):\n",
        "    #Y hat\n",
        "    Y_pred=(m1*x1)+(m2*x2)+(m3*x3)+ c\n",
        "\n",
        "    # partial Dereviatives\n",
        "    d_m1=(-2/n)*sum((y_train-Y_pred)*x1)\n",
        "    d_m2=(-2/n)*sum((y_train-Y_pred)*x2)\n",
        "    d_m3=(-2/n)*sum((y_train-Y_pred)*x3)\n",
        "    d_c=(-2/n)*sum((y_train-Y_pred))\n",
        "\n",
        "    #update\n",
        "    m1=m1-(L*d_m1)\n",
        "    m2=m2-(L*d_m2)\n",
        "    m3=m3-(L*d_m3)\n",
        "    c=c-(L*d_c)\n",
        "\n",
        "\n",
        "\n",
        "\n",
        "\n",
        "\n"
      ],
      "metadata": {
        "id": "MON9RfRu-GBk"
      },
      "execution_count": 56,
      "outputs": []
    },
    {
      "cell_type": "markdown",
      "source": [
        "## Prediction"
      ],
      "metadata": {
        "id": "FmBrijtU-UQi"
      }
    },
    {
      "cell_type": "code",
      "source": [
        "prediction=np.array(X_test)[:,0]*m1+np.array(X_test)[:,1]*m2+np.array(X_test)[:,2]*m3+c\n",
        "\n",
        "cls.fit(X_train,y_train)\n",
        "prediction2= cls.predict(X_test)\n",
        "\n",
        "print('Co-efficient of linear regression',cls.coef_)\n",
        "print('Intercept of linear regression model',cls.intercept_)\n",
        "print('Mean Square Error', metrics.mean_squared_error(np.asarray(y_test), prediction))\n",
        "print('Mean Square Error 2', metrics.mean_squared_error(np.asarray(y_test), prediction2))\n",
        "\n",
        "true_player_value=np.asarray(y_test)[1]\n",
        "predicted_player_value=prediction[1]\n",
        "\n",
        "print('True value for the first player in the test set in millions is : ' + str(true_player_value))\n",
        "print('Predicted value for the first player in the test set in millions is : ' + str(predicted_player_value))"
      ],
      "metadata": {
        "colab": {
          "base_uri": "https://localhost:8080/"
        },
        "id": "_Do_JSiF-VSh",
        "outputId": "7d8615f8-5b13-4755-b832-73b2602b5bd6"
      },
      "execution_count": 55,
      "outputs": [
        {
          "output_type": "stream",
          "name": "stdout",
          "text": [
            "Co-efficient of linear regression [-2.97952927e-01 -6.31596053e-04  5.75392066e-01  4.29942338e-02\n",
            "  1.28530596e-04 -7.90666722e-03 -5.03965331e-03  1.30530919e-02\n",
            " -1.23461605e-02 -1.06642707e-02  3.16896367e-02 -1.32330298e-02\n",
            "  6.15592955e-04  5.88251195e-03  8.08065151e-03 -5.08261875e-02\n",
            " -7.21842059e-03 -3.44696623e-03 -1.53231319e-02  5.07757025e-02\n",
            "  7.92281437e-03 -2.05080046e-02  2.82919384e-03 -5.58173103e-03\n",
            " -1.19791563e-02 -2.15006672e-02 -6.43491525e-03 -6.56360278e-03\n",
            "  1.41405168e-02  2.54052882e-02  8.25718251e-03  7.78180312e-03\n",
            "  6.07767129e-03  4.84941858e-03 -6.93239191e-03 -6.97538537e-03\n",
            " -5.89958996e-03  3.29387740e-03 -3.85117280e-02]\n",
            "Intercept of linear regression model -29.18154173867874\n",
            "Mean Square Error 36.179913994891365\n",
            "Mean Square Error 2 20.587485817589144\n",
            "True value for the first player in the test set in millions is : 0.325\n",
            "Predicted value for the first player in the test set in millions is : 2.008845973912162\n"
          ]
        }
      ]
    },
    {
      "cell_type": "code",
      "source": [
        "\n",
        "# Co-efficient of linear regression [-2.94098695e-01 -1.01014571e-03  5.77360616e-01  5.11614053e-02\n",
        "#   3.70217484e-04 -8.37838640e-03 -6.63426373e-03  1.20879673e-02\n",
        "#  -1.50717876e-02 -1.24940333e-02  3.04740080e-02 -9.03089658e-03\n",
        "#  -1.17026011e-03  9.84070935e-03  1.00711153e-02 -4.64181959e-02\n",
        "#  -2.30298966e-03 -7.12641792e-03 -2.17769422e-02  6.12535591e-02\n",
        "#   1.03733564e-02 -1.89058373e-02  2.99547823e-04 -3.11036051e-03\n",
        "#  -1.01063979e-02 -1.68664423e-02 -7.30254807e-03 -6.61542912e-03\n",
        "#   1.16547920e-02  1.92422164e-02  3.22669310e-03  6.28038714e-03\n",
        "#   1.01091836e-02 -6.16173029e-03 -7.87207812e-04 -8.28390089e-03\n",
        "#  -3.51327400e-03 -1.05031197e-02 -2.80726822e-02]\n",
        "# Intercept of linear regression model -30.194312244746772\n",
        "# Mean Square Error 29.14849058733988\n",
        "# Mean Square Error 2 15.830496268090728\n",
        "# True value for the first player in the test set in millions is : 0.575\n",
        "# Predicted value for the first player in the test set in millions is : 2.344190996226067"
      ],
      "metadata": {
        "id": "IMvkrML6kidS"
      },
      "execution_count": null,
      "outputs": []
    },
    {
      "cell_type": "markdown",
      "source": [
        "## Polynomial Regression"
      ],
      "metadata": {
        "id": "23JLL0Q3-WV4"
      }
    },
    {
      "cell_type": "code",
      "source": [
        "import numpy as np\n",
        "import pandas as pd\n",
        "import seaborn as sns\n",
        "import matplotlib.pyplot as plt\n",
        "from sklearn import linear_model\n",
        "from sklearn import metrics\n",
        "from sklearn.model_selection import train_test_split\n",
        "from sklearn.preprocessing import PolynomialFeatures\n",
        "\n",
        "#Load players data\n",
        "data = pd.read_csv('fifa19.csv')\n",
        "#Drop the rows that contain missing values\n",
        "data.dropna(how='any',inplace=True)\n",
        "fifa_data=data.iloc[:,:]\n",
        "X=data.iloc[:,1:40] #Features\n",
        "Y=data['Value'] #Label\n",
        "cols=('Nationality','Club','Position')\n",
        "X=Feature_Encoder(X,cols);\n",
        "\n",
        "#Split the data to training and testing sets\n",
        "X_train, X_test, y_train, y_test = train_test_split(X, Y, test_size = 0.30)\n",
        "#Get the correlation between the features\n",
        "corr = fifa_data.corr()\n",
        "#Top 50% Correlation training features with the Value\n",
        "top_feature = corr.index[abs(corr['Value']>0.5)]\n",
        "#Correlation plot\n",
        "plt.subplots(figsize=(12, 8))\n",
        "top_corr = fifa_data[top_feature].corr()\n",
        "sns.heatmap(top_corr, annot=True)\n",
        "plt.show()\n",
        "\n",
        "poly_features = PolynomialFeatures(degree=2)\n",
        "\n",
        "# transforms the existing features to higher degree features.\n",
        "X_train_poly = poly_features.fit_transform(X_train)\n",
        "\n",
        "# fit the transformed features to Linear Regression\n",
        "poly_model = linear_model.LinearRegression()\n",
        "poly_model.fit(X_train_poly, y_train)\n",
        "\n",
        "# predicting on training data-set\n",
        "y_train_predicted = poly_model.predict(X_train_poly)\n",
        "\n",
        "# predicting on test data-set\n",
        "prediction = poly_model.predict(poly_features.fit_transform(X_test))\n",
        "\n",
        "\n",
        "print('Co-efficient of linear regression',poly_model.coef_)\n",
        "print('Intercept of linear regression model',poly_model.intercept_)\n",
        "print('Mean Square Error', metrics.mean_squared_error(y_test, prediction))\n",
        "\n",
        "true_player_value=np.asarray(y_test)[1]\n",
        "predicted_player_value=prediction[1]\n",
        "print('True value for the first player in the test set in millions is : ' + str(true_player_value))\n",
        "print('Predicted value for the first player in the test set in millions is : ' + str(predicted_player_value))"
      ],
      "metadata": {
        "colab": {
          "base_uri": "https://localhost:8080/",
          "height": 1000
        },
        "id": "rIpjp5CJ-Xrc",
        "outputId": "2fd3e998-ca81-4c29-9a8d-49e5acf9e475"
      },
      "execution_count": 5,
      "outputs": [
        {
          "output_type": "display_data",
          "data": {
            "text/plain": [
              "<Figure size 864x576 with 2 Axes>"
            ],
            "image/png": "[encoded data removed]"
          },
          "metadata": {
            "needs_background": "light"
          }
        },
        {
          "output_type": "stream",
          "name": "stdout",
          "text": [
            "Co-efficient of linear regression [-1.77576423e-11  4.26006558e+00  1.04128085e-02 -6.28095921e+00\n",
            "  4.31916516e-01  3.94496467e-03  5.21988259e-02  2.51191559e-03\n",
            " -1.80898048e-01  1.08543128e-01  1.00999264e-01 -2.27498615e-01\n",
            "  2.28417375e-01  6.04208501e-02 -3.64876081e-01 -1.04203934e-01\n",
            "  1.39468683e-01  8.76129859e-02  1.17128223e-01  9.36323301e-02\n",
            " -4.01748791e-01 -2.85298007e-02  2.98138436e-01 -1.99488447e-02\n",
            " -6.62484659e-02  3.59642954e-02  1.51429899e-01  1.82135079e-02\n",
            "  6.00549420e-02 -2.34125377e-01 -1.15844691e-01  9.85856655e-03\n",
            "  1.17460599e-02 -8.57412452e-02 -1.78015334e-01  3.54745703e-01\n",
            " -2.01468206e-01  2.46251105e-01  4.60910261e-02  1.68677173e-01\n",
            " -1.62312713e-02  1.97560131e-04 -2.51405398e-02 -2.97593658e-02\n",
            " -5.69389090e-05  2.32989402e-03  2.98495860e-03  8.97243945e-04\n",
            " -1.95298921e-03  1.37845405e-03 -1.33480736e-03  6.21747530e-04\n",
            " -1.45072852e-03  1.90048185e-03 -2.40621415e-03  3.74556423e-03\n",
            " -2.40654179e-03  7.58734001e-04 -9.60413167e-04 -2.30841909e-03\n",
            " -2.24261636e-03  1.28432000e-03  1.77612361e-03 -3.46577642e-04\n",
            "  9.55993889e-04  7.01642653e-04  5.35978485e-04  4.09550576e-03\n",
            "  2.12561802e-03 -1.65038728e-03  2.75026410e-04 -2.60502640e-03\n",
            "  8.25279293e-04  3.05086908e-03 -4.55205718e-03  1.61343244e-03\n",
            "  9.21926600e-04  9.88561176e-04  3.07145534e-03 -1.80931737e-05\n",
            " -8.77668148e-04  1.60537173e-04 -9.03319187e-07  1.14753958e-04\n",
            "  4.17830553e-05  5.88753422e-05  1.59350683e-04  1.36289445e-04\n",
            " -6.66502098e-06  6.00728987e-05  9.28853750e-06  3.17738436e-05\n",
            " -6.48255670e-06 -1.04341087e-04  7.58435780e-05 -2.02684691e-06\n",
            "  6.23223299e-05 -7.21671955e-05 -9.66083076e-05 -6.95919696e-06\n",
            "  1.74969066e-05 -5.71177014e-05  2.70343997e-05  1.26882856e-05\n",
            "  1.03743058e-04  9.57001944e-07 -4.24563097e-06 -1.00921848e-05\n",
            " -4.10692349e-06 -2.99144198e-05  8.46952835e-05  1.23418515e-04\n",
            " -9.25018786e-05 -7.34038611e-05  1.94314949e-04  3.21405727e-04\n",
            " -6.43633243e-06  5.75214633e-02  1.93969013e-02 -2.04152906e-06\n",
            "  1.57535798e-04 -2.76643789e-03 -9.44143807e-04 -3.17440563e-04\n",
            " -2.48113600e-03  6.86437408e-03 -5.12066397e-03  3.78349809e-05\n",
            "  1.41033619e-03  3.78067938e-03 -6.05966124e-03 -1.27227108e-04\n",
            " -2.85660412e-03  1.53007830e-03  3.57492843e-03  1.88950928e-03\n",
            " -5.12597861e-03 -6.33533121e-04  3.73663387e-04 -2.14216102e-03\n",
            " -1.66154163e-03 -2.16097684e-03 -1.44941957e-03  2.50097277e-04\n",
            " -2.10527136e-04 -1.47144628e-03  1.96258030e-03 -2.99230514e-03\n",
            " -7.29677076e-03  4.50436203e-03 -4.79975591e-03 -1.84440472e-03\n",
            " -7.88548704e-04 -1.17329391e-02 -6.14602781e-03 -2.84213330e-05\n",
            " -1.93744866e-04  1.09265328e-03  1.35713867e-03 -2.04262670e-04\n",
            "  3.55302691e-05 -7.96126689e-04 -1.17745840e-03 -5.71991412e-04\n",
            "  2.84586664e-03 -6.94833472e-04  2.01336913e-03 -2.07833357e-03\n",
            "  9.77727900e-04 -2.29277845e-03  1.71519070e-03 -5.27250531e-05\n",
            " -1.08246077e-03  3.78274563e-04 -3.37563201e-04 -4.64178514e-04\n",
            " -1.45971536e-03  1.97366366e-04 -6.61705521e-05  2.44698807e-03\n",
            " -4.17469472e-04  1.57990608e-03 -3.46145723e-03  1.55583626e-03\n",
            "  4.15851144e-03 -5.33520327e-03  1.65353784e-03 -1.15039308e-03\n",
            " -1.49509024e-03  2.75582498e-03 -1.95984081e-06  2.29903663e-05\n",
            " -9.42258022e-06  7.61218598e-06 -1.35033537e-05 -4.68132825e-05\n",
            "  3.30877099e-06 -1.40160518e-06  1.21629422e-05 -4.47670074e-06\n",
            "  1.76555868e-05  4.99092115e-05 -5.67263101e-06 -1.02783774e-05\n",
            "  2.03561068e-05  3.14568058e-05 -1.86110212e-05 -1.05000397e-05\n",
            " -1.40963430e-05  9.83988925e-06  4.94424037e-06 -1.90754357e-06\n",
            " -7.17427758e-06  1.44133272e-05 -1.82335567e-05 -9.14107627e-06\n",
            "  5.47848901e-07  1.66115042e-05 -2.98062661e-06  1.57007575e-05\n",
            " -1.62808569e-05 -1.85577630e-06 -2.24384405e-06 -6.67020329e-08\n",
            " -1.25608451e-06 -1.02111055e-04 -5.65223943e-05 -7.29036602e-04\n",
            " -7.71296548e-04  1.03869777e-03 -4.34522350e-04  7.12309968e-04\n",
            " -3.88812270e-04 -3.55127021e-04  8.39799758e-05 -1.66217341e-03\n",
            "  2.22038841e-04 -1.17668914e-04  6.56069793e-04  1.51140857e-04\n",
            " -6.47312796e-04  9.26219018e-04 -2.71058831e-04 -4.32465349e-04\n",
            " -3.69054723e-04 -3.11814425e-05 -2.70129358e-04 -1.36528286e-04\n",
            "  3.10712730e-04 -1.31162986e-05  1.22058338e-04 -3.23922713e-04\n",
            " -4.40680417e-04  7.77592888e-04 -4.95073390e-04  2.08146128e-03\n",
            "  7.33821610e-04  9.60734049e-05  7.44500124e-04 -6.50284680e-05\n",
            " -1.49828856e-04  9.08214215e-04 -4.53511561e-05 -6.52881832e-04\n",
            "  1.00383464e-04  4.07411714e-04 -2.40180410e-04 -6.37477152e-04\n",
            " -3.49208632e-04  5.05626207e-04 -5.17937723e-04 -1.82348933e-04\n",
            "  8.89122071e-04  7.07760645e-04  5.23109665e-04 -2.68066357e-04\n",
            "  2.69491622e-05  1.56270015e-04 -2.97543331e-04  2.65929512e-04\n",
            "  3.81568448e-05 -2.28124995e-04  2.23996152e-04 -1.20043658e-04\n",
            " -5.97277391e-04  4.71651097e-04  2.69556089e-04 -1.07607046e-03\n",
            " -1.50070343e-04  8.02179492e-04 -1.68032022e-03  7.03893563e-04\n",
            "  2.45083866e-04  2.07830005e-04  4.55443211e-04  2.83626354e-04\n",
            "  2.41905499e-04  2.90985178e-04  7.82006074e-05 -3.04647350e-04\n",
            " -1.46133660e-03  9.91317126e-04 -1.02128966e-03  2.33965607e-04\n",
            "  7.83741113e-04 -4.86473807e-05 -3.30637690e-05  5.45512712e-04\n",
            "  3.27051461e-04  1.37130112e-04 -2.86066198e-04  7.28312221e-05\n",
            "  1.96254320e-04  2.06889946e-04  2.77448406e-04 -3.94263976e-04\n",
            " -3.91737568e-04  9.03314477e-04 -5.37469062e-04  2.71020331e-05\n",
            "  1.30776539e-03 -5.23249665e-04 -2.28794097e-04 -1.33671081e-04\n",
            " -4.92359412e-04 -7.56615365e-04  4.95660027e-05 -4.66498543e-04\n",
            "  2.10937197e-05 -2.13071382e-04 -1.61689696e-04 -3.83478908e-04\n",
            "  8.06813448e-04 -1.04508082e-03 -1.65048982e-04  7.27412337e-04\n",
            "  1.78757516e-04 -2.16070808e-04 -5.75762661e-05  1.41470239e-04\n",
            " -4.32923715e-05 -1.81895122e-04  5.80613166e-04 -3.95946442e-04\n",
            " -3.14706141e-05  1.06461483e-03  2.95397858e-04 -2.74862087e-04\n",
            "  5.74627988e-04 -9.40684320e-04  5.97448247e-04 -4.87225103e-04\n",
            " -2.06193596e-03  8.78105307e-04  9.64103561e-04  2.92812349e-04\n",
            " -1.13510585e-03 -3.80234715e-04  4.23594607e-04 -7.14703891e-04\n",
            " -1.16448809e-03 -8.95240025e-04  7.03342996e-04  1.42853128e-04\n",
            " -4.44268922e-04 -1.01208206e-03  1.26970735e-04  9.22972986e-04\n",
            "  5.33204829e-05 -5.21999810e-04  1.13450395e-04  7.97454225e-04\n",
            " -5.84656665e-04  3.78183507e-04  6.11436637e-04  1.25136643e-04\n",
            "  1.56446574e-04  3.77908714e-04  1.71659320e-04  2.39025857e-03\n",
            " -8.60889980e-04  3.47989883e-04  5.70949707e-04  5.91220550e-04\n",
            " -8.72494391e-04  4.67376985e-06  2.96874710e-04  6.10284347e-04\n",
            "  2.55051021e-04 -2.74234619e-04  2.63334176e-04  6.58977364e-04\n",
            " -2.34150030e-04 -3.88037122e-05 -9.41691087e-04  7.71845854e-05\n",
            " -7.33826711e-04 -2.46334612e-04 -2.19347187e-04 -2.36412881e-04\n",
            " -3.17289962e-04  3.16484330e-04 -3.09353305e-04 -4.12454777e-04\n",
            "  9.40065225e-04  9.91885643e-05 -2.47899642e-04 -5.73064591e-04\n",
            "  3.96695797e-04  3.76394959e-04 -1.00990280e-03  4.08867598e-04\n",
            " -2.95671517e-04  5.73701804e-05  5.81066664e-04 -4.83226958e-04\n",
            " -1.90429100e-04  2.35859467e-04  2.39319238e-04 -5.37639151e-04\n",
            "  4.37286118e-04 -9.17999105e-04 -1.49511748e-03  3.35206949e-04\n",
            "  2.42661736e-04  4.54769354e-04 -6.93415705e-04  7.03580285e-04\n",
            " -2.45088241e-04  8.89950318e-05  1.45390298e-03 -1.88616756e-04\n",
            " -9.28651251e-05  8.15454571e-04  5.35726354e-04 -1.08543628e-03\n",
            " -1.41742768e-05  1.80383108e-03 -6.82974385e-04  1.58728373e-03\n",
            "  2.54844054e-03 -1.04425591e-03 -5.34873119e-04  1.42143051e-04\n",
            "  2.71537310e-04  1.46942885e-04 -2.06889358e-04  4.94546169e-05\n",
            "  1.40429418e-04  9.37472090e-04 -1.63128449e-04  2.89812642e-05\n",
            "  2.66940846e-04 -2.62861244e-04  1.57199759e-04  7.13398450e-05\n",
            " -4.15689484e-04  4.07421150e-04 -7.93808485e-05 -2.80621000e-04\n",
            " -9.87786302e-05 -5.33001606e-04  7.22264995e-05 -1.19135371e-03\n",
            "  8.54693265e-04 -7.87089742e-04  5.48944125e-04 -1.10689760e-03\n",
            "  7.10944487e-04 -1.00687591e-04  5.08279489e-04 -2.30578164e-04\n",
            "  3.50448842e-04 -1.83138159e-05  4.88785447e-05 -3.97037265e-04\n",
            " -1.07049585e-05 -4.80151152e-04  4.57494344e-05  4.67334143e-04\n",
            "  2.12522584e-04  5.45250862e-06  2.79232186e-04 -5.32397319e-04\n",
            "  5.48118458e-04 -2.97552633e-04  4.45995525e-05  4.13306485e-04\n",
            "  1.57395596e-04  8.57364913e-04 -5.78840866e-04 -2.85369158e-05\n",
            " -1.06996516e-03  1.38398578e-03 -3.17874717e-04 -2.74663283e-05\n",
            "  1.98588570e-04  1.44169044e-05  2.26433011e-04 -1.71504060e-04\n",
            "  3.54982776e-04 -3.11984704e-04 -1.17811007e-04  4.11532985e-04\n",
            " -3.78808283e-05 -5.62800891e-04 -5.52385902e-04  1.39300863e-04\n",
            " -5.14650069e-04  5.85206282e-04 -1.48585176e-05  1.62609991e-04\n",
            "  7.94906802e-04  3.66098909e-04  3.25475989e-04 -3.89658688e-04\n",
            "  8.16011701e-04 -4.82281989e-04 -1.00597048e-03  1.36706423e-04\n",
            "  2.20710663e-04  3.49692329e-04  4.88572818e-05  5.11207844e-04\n",
            "  1.07449902e-03 -6.60557853e-04 -6.01320798e-07 -4.76758332e-04\n",
            "  1.04730342e-03 -3.28234529e-04  1.26669066e-03  8.51310007e-05\n",
            " -1.49230812e-03  4.24409832e-05 -1.49293749e-04  3.41560414e-04\n",
            " -5.72013508e-05  1.31636132e-03 -9.47241836e-04  5.08419615e-04\n",
            "  5.05386422e-04 -1.69388222e-03 -2.19217478e-03  3.39941548e-03\n",
            " -5.38147212e-05  1.16425610e-04  4.61779684e-04  4.20984094e-04\n",
            " -1.15387020e-04 -7.57143536e-04 -1.07138847e-04  5.84133751e-05\n",
            " -3.19216824e-04  4.07978838e-04  9.01906660e-04 -7.01759963e-04\n",
            " -9.49278070e-04 -3.01787138e-04 -9.79617326e-04  1.97384652e-04\n",
            "  4.20593918e-04 -5.56993340e-04  3.01152378e-04  1.51521696e-03\n",
            " -9.89372535e-04  5.21085434e-04  1.43967550e-04  1.24962280e-04\n",
            " -7.52606133e-04 -5.00618044e-04 -8.38991291e-04  4.28674718e-04\n",
            "  4.86946605e-04  6.10395939e-05  4.55488461e-04  3.67264919e-04\n",
            " -6.43238105e-04  9.04710227e-04  8.12047952e-04 -1.69601422e-04\n",
            "  3.17325543e-04  6.43375907e-04 -5.81901669e-05 -9.08456219e-05\n",
            " -1.47112449e-04 -7.38205210e-04  1.06307532e-03  9.15381122e-04\n",
            " -1.45198775e-03  5.39409282e-05 -5.50320131e-04  5.06658233e-04\n",
            "  3.63702291e-04  3.89314087e-04 -2.54294435e-04 -6.65302254e-06\n",
            " -5.57851263e-05  1.41794996e-04  8.32560337e-05 -5.86536145e-05\n",
            "  4.10256354e-04 -1.47274954e-04 -3.24161618e-04  1.53555173e-05\n",
            "  4.73438807e-04 -2.06681052e-04 -3.08152858e-04 -5.91174474e-04\n",
            " -5.53672920e-04  1.14418247e-03  5.99026228e-05  1.43156788e-04\n",
            "  7.10233594e-05 -5.86767016e-04  6.84358884e-04  1.61868394e-04\n",
            "  8.82571896e-05 -3.78502020e-04  1.04175398e-05 -6.62295419e-04\n",
            "  5.34224447e-04 -1.61470394e-04  1.39485195e-03  4.70931785e-04\n",
            "  1.03658399e-03 -1.94921485e-03  1.32498720e-03 -1.71169410e-03\n",
            "  4.52616114e-04  6.81690568e-04  1.85375116e-05 -5.43527560e-04\n",
            " -5.24202299e-04  5.58951126e-04 -1.18960218e-05 -5.51302350e-05\n",
            "  2.93508364e-04 -3.60055880e-04  9.02108434e-05  1.41168122e-04\n",
            "  4.86276911e-05  5.89466157e-04  1.77206361e-04  9.84943210e-04\n",
            " -1.52266286e-03  1.86337284e-04  2.95020201e-05  2.19071572e-04\n",
            " -3.97547359e-04  2.99257519e-04  3.78233287e-05  2.66731521e-04\n",
            "  7.26001980e-05  7.55371746e-05 -1.48279773e-04  2.90495748e-04\n",
            " -7.48572059e-04 -3.76960220e-04  3.82803079e-04 -1.16466373e-04\n",
            "  4.38145014e-04  7.50924501e-04 -6.38066766e-04 -6.13408093e-05\n",
            "  1.25620203e-03  3.35249777e-04 -2.26182548e-04 -4.19995111e-05\n",
            " -3.12263318e-04  1.34679722e-04  4.61273131e-05 -1.35717666e-04\n",
            " -2.61429493e-04 -7.62620220e-05 -5.89816255e-05 -2.13622012e-04\n",
            " -1.51177874e-04  3.26192240e-04 -3.35437106e-04  7.77178394e-04\n",
            "  3.82180216e-04  1.67323412e-04 -1.53045584e-04 -1.86626715e-04\n",
            "  1.47142129e-04  1.11220570e-04 -9.99687398e-04  2.37201500e-04\n",
            " -1.52291712e-04  1.23365885e-04  3.26627236e-04  6.49315029e-04\n",
            " -7.80810604e-04  2.57006086e-04  2.08516431e-04 -4.39285196e-04\n",
            " -6.75456947e-05  1.28210437e-03 -1.71805422e-03  9.38887363e-04\n",
            " -3.22765827e-05  5.13593344e-04  2.58089119e-04 -3.42704368e-04\n",
            " -5.36497043e-04  4.08809688e-04 -2.82567547e-04  6.04150709e-04\n",
            "  6.30866200e-05  1.94666434e-03 -1.64071355e-03  7.81808757e-04\n",
            "  7.29828245e-04 -1.01786859e-03  9.43988542e-05  9.75448121e-05\n",
            "  4.16891247e-05  6.35872771e-04 -1.90606074e-04  5.63136249e-05\n",
            " -4.47908559e-04  1.75146992e-04 -3.27008075e-04 -3.28678471e-04\n",
            " -9.73648054e-06  1.62574604e-04 -3.31085774e-04 -4.69772192e-04\n",
            "  3.89403540e-04 -9.25064950e-05  4.92600280e-04  7.81186767e-05\n",
            "  2.24918350e-04 -1.49300330e-04  1.51473147e-05 -4.09798850e-04\n",
            "  3.49505007e-05 -2.40451051e-04 -1.10321038e-04 -8.93268179e-04\n",
            "  1.26933646e-03  8.09772629e-04 -3.97196018e-04 -7.26850716e-04\n",
            "  9.43178632e-04 -6.83002704e-04 -2.22878279e-05  5.84639461e-04\n",
            "  9.52861699e-05 -6.27248070e-04 -1.86311338e-03  1.07985813e-03\n",
            " -1.62234293e-04  5.42410075e-04 -1.52731320e-04  1.80715538e-04\n",
            "  1.34412748e-04  3.61306713e-04 -1.97854800e-04  9.36026926e-04\n",
            "  3.93259581e-04  6.28400073e-04 -7.63909323e-05  5.00942643e-04\n",
            " -6.50859809e-04  1.81072551e-04 -3.11273713e-04 -5.23733944e-04\n",
            " -2.65927276e-04 -1.38751843e-04  2.51805223e-05 -1.25682237e-04\n",
            "  2.62001907e-04  8.60965335e-04  6.72669060e-04  1.85474381e-04\n",
            " -6.01146389e-04 -5.50512814e-04 -7.75100085e-05  6.77542683e-04\n",
            "  1.08348342e-03 -1.72903857e-04 -1.48461190e-04  7.54696754e-05\n",
            "  5.26920281e-04  2.67557137e-04 -1.20354912e-03  8.37210487e-04\n",
            " -1.63914414e-05 -2.84219132e-04  2.58500085e-04  4.40403118e-05\n",
            " -7.19895868e-04  1.09142634e-04 -5.26700592e-04  7.26137378e-05\n",
            "  3.56693853e-04  9.19383844e-04 -2.54750526e-04  1.22403698e-04\n",
            " -9.03909768e-04  4.04120694e-03  1.74902032e-03 -8.63548170e-04\n",
            " -4.19406822e-03  1.29610597e-03 -1.17884263e-03 -2.67912851e-03\n",
            "  1.14267110e-03  3.36617973e-03 -5.98356219e-04  4.08195293e-03\n",
            " -1.22214064e-04 -1.76128748e-03 -1.13185360e-03 -2.80994243e-03\n",
            " -1.55667550e-04  2.38750922e-04  3.19451574e-03  6.64256216e-04]\n",
            "Intercept of linear regression model 121.2433929203727\n",
            "Mean Square Error 5.895304471473677\n",
            "True value for the first player in the test set in millions is : 0.45\n",
            "Predicted value for the first player in the test set in millions is : -1.4201969536762675\n"
          ]
        }
      ]
    },
    {
      "cell_type": "code",
      "source": [
        ""
      ],
      "metadata": {
        "id": "pzSm4L64GeoC"
      },
      "execution_count": null,
      "outputs": []
    }
  ]
}